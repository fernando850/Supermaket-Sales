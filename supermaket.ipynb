{
 "cells": [
  {
   "cell_type": "markdown",
   "id": "86f0959f",
   "metadata": {},
   "source": [
    "# Exploratory data analysis of a supermarket sales dataset\n",
    "\n",
    "\n",
    "This project consists of a exploratory data analysis from  supermarkets data downloaded from [kaggle](https://www.kaggle.com/datasets/aungpyaeap/supermarket-sales). The dataset is one of the historical sales of supermarket company which has recorded in 3 different branches for 3 months data. The goal is to answer the following questions about the dataset:\n",
    "\n",
    "1. How many purchases were recorded at each hour of the day during the last 3 months?\n",
    "2. How the sales were distributed along the weekdays?\n",
    "3. How the location affect the average sales?\n",
    "4. Which product lines present the higgest average sales?\n",
    "5. Are the product lines with higgest average sales better evaluated?\n",
    "6. Which gender spend more in average?\n",
    "7. How Gender affect product lines preference?\n",
    "8. What are the favorite payment methods per customer type?"
   ]
  },
  {
   "cell_type": "markdown",
   "id": "022804a7",
   "metadata": {},
   "source": [
    "## Importing libraries"
   ]
  },
  {
   "cell_type": "code",
   "execution_count": 1,
   "id": "07391eeb",
   "metadata": {},
   "outputs": [],
   "source": [
    "import pandas as pd\n",
    "import numpy as np\n",
    "import matplotlib.pyplot as plt\n",
    "import seaborn as sns"
   ]
  },
  {
   "cell_type": "markdown",
   "id": "cbb61778",
   "metadata": {},
   "source": [
    "## Reading the data"
   ]
  },
  {
   "cell_type": "code",
   "execution_count": 2,
   "id": "de21ef3a",
   "metadata": {
    "scrolled": true
   },
   "outputs": [
    {
     "data": {
      "text/html": [
       "<div>\n",
       "<style scoped>\n",
       "    .dataframe tbody tr th:only-of-type {\n",
       "        vertical-align: middle;\n",
       "    }\n",
       "\n",
       "    .dataframe tbody tr th {\n",
       "        vertical-align: top;\n",
       "    }\n",
       "\n",
       "    .dataframe thead th {\n",
       "        text-align: right;\n",
       "    }\n",
       "</style>\n",
       "<table border=\"1\" class=\"dataframe\">\n",
       "  <thead>\n",
       "    <tr style=\"text-align: right;\">\n",
       "      <th></th>\n",
       "      <th>Date_Time</th>\n",
       "      <th>Invoice ID</th>\n",
       "      <th>Branch</th>\n",
       "      <th>City</th>\n",
       "      <th>Customer type</th>\n",
       "      <th>Gender</th>\n",
       "      <th>Product line</th>\n",
       "      <th>Unit price</th>\n",
       "      <th>Quantity</th>\n",
       "      <th>Tax 5%</th>\n",
       "      <th>Total</th>\n",
       "      <th>Payment</th>\n",
       "      <th>cogs</th>\n",
       "      <th>gross margin percentage</th>\n",
       "      <th>gross income</th>\n",
       "      <th>Rating</th>\n",
       "    </tr>\n",
       "  </thead>\n",
       "  <tbody>\n",
       "    <tr>\n",
       "      <th>0</th>\n",
       "      <td>2019-01-05 13:08:00</td>\n",
       "      <td>750-67-8428</td>\n",
       "      <td>A</td>\n",
       "      <td>Yangon</td>\n",
       "      <td>Member</td>\n",
       "      <td>Female</td>\n",
       "      <td>Health and beauty</td>\n",
       "      <td>74.69</td>\n",
       "      <td>7</td>\n",
       "      <td>26.1415</td>\n",
       "      <td>548.9715</td>\n",
       "      <td>Ewallet</td>\n",
       "      <td>522.83</td>\n",
       "      <td>4.761905</td>\n",
       "      <td>26.1415</td>\n",
       "      <td>9.1</td>\n",
       "    </tr>\n",
       "    <tr>\n",
       "      <th>1</th>\n",
       "      <td>2019-03-08 10:29:00</td>\n",
       "      <td>226-31-3081</td>\n",
       "      <td>C</td>\n",
       "      <td>Naypyitaw</td>\n",
       "      <td>Normal</td>\n",
       "      <td>Female</td>\n",
       "      <td>Electronic accessories</td>\n",
       "      <td>15.28</td>\n",
       "      <td>5</td>\n",
       "      <td>3.8200</td>\n",
       "      <td>80.2200</td>\n",
       "      <td>Cash</td>\n",
       "      <td>76.40</td>\n",
       "      <td>4.761905</td>\n",
       "      <td>3.8200</td>\n",
       "      <td>9.6</td>\n",
       "    </tr>\n",
       "    <tr>\n",
       "      <th>2</th>\n",
       "      <td>2019-03-03 13:23:00</td>\n",
       "      <td>631-41-3108</td>\n",
       "      <td>A</td>\n",
       "      <td>Yangon</td>\n",
       "      <td>Normal</td>\n",
       "      <td>Male</td>\n",
       "      <td>Home and lifestyle</td>\n",
       "      <td>46.33</td>\n",
       "      <td>7</td>\n",
       "      <td>16.2155</td>\n",
       "      <td>340.5255</td>\n",
       "      <td>Credit card</td>\n",
       "      <td>324.31</td>\n",
       "      <td>4.761905</td>\n",
       "      <td>16.2155</td>\n",
       "      <td>7.4</td>\n",
       "    </tr>\n",
       "    <tr>\n",
       "      <th>3</th>\n",
       "      <td>2019-01-27 20:33:00</td>\n",
       "      <td>123-19-1176</td>\n",
       "      <td>A</td>\n",
       "      <td>Yangon</td>\n",
       "      <td>Member</td>\n",
       "      <td>Male</td>\n",
       "      <td>Health and beauty</td>\n",
       "      <td>58.22</td>\n",
       "      <td>8</td>\n",
       "      <td>23.2880</td>\n",
       "      <td>489.0480</td>\n",
       "      <td>Ewallet</td>\n",
       "      <td>465.76</td>\n",
       "      <td>4.761905</td>\n",
       "      <td>23.2880</td>\n",
       "      <td>8.4</td>\n",
       "    </tr>\n",
       "    <tr>\n",
       "      <th>4</th>\n",
       "      <td>2019-02-08 10:37:00</td>\n",
       "      <td>373-73-7910</td>\n",
       "      <td>A</td>\n",
       "      <td>Yangon</td>\n",
       "      <td>Normal</td>\n",
       "      <td>Male</td>\n",
       "      <td>Sports and travel</td>\n",
       "      <td>86.31</td>\n",
       "      <td>7</td>\n",
       "      <td>30.2085</td>\n",
       "      <td>634.3785</td>\n",
       "      <td>Ewallet</td>\n",
       "      <td>604.17</td>\n",
       "      <td>4.761905</td>\n",
       "      <td>30.2085</td>\n",
       "      <td>5.3</td>\n",
       "    </tr>\n",
       "  </tbody>\n",
       "</table>\n",
       "</div>"
      ],
      "text/plain": [
       "            Date_Time   Invoice ID Branch       City Customer type  Gender  \\\n",
       "0 2019-01-05 13:08:00  750-67-8428      A     Yangon        Member  Female   \n",
       "1 2019-03-08 10:29:00  226-31-3081      C  Naypyitaw        Normal  Female   \n",
       "2 2019-03-03 13:23:00  631-41-3108      A     Yangon        Normal    Male   \n",
       "3 2019-01-27 20:33:00  123-19-1176      A     Yangon        Member    Male   \n",
       "4 2019-02-08 10:37:00  373-73-7910      A     Yangon        Normal    Male   \n",
       "\n",
       "             Product line  Unit price  Quantity   Tax 5%     Total  \\\n",
       "0       Health and beauty       74.69         7  26.1415  548.9715   \n",
       "1  Electronic accessories       15.28         5   3.8200   80.2200   \n",
       "2      Home and lifestyle       46.33         7  16.2155  340.5255   \n",
       "3       Health and beauty       58.22         8  23.2880  489.0480   \n",
       "4       Sports and travel       86.31         7  30.2085  634.3785   \n",
       "\n",
       "       Payment    cogs  gross margin percentage  gross income  Rating  \n",
       "0      Ewallet  522.83                 4.761905       26.1415     9.1  \n",
       "1         Cash   76.40                 4.761905        3.8200     9.6  \n",
       "2  Credit card  324.31                 4.761905       16.2155     7.4  \n",
       "3      Ewallet  465.76                 4.761905       23.2880     8.4  \n",
       "4      Ewallet  604.17                 4.761905       30.2085     5.3  "
      ]
     },
     "execution_count": 2,
     "metadata": {},
     "output_type": "execute_result"
    }
   ],
   "source": [
    "\n",
    "df=pd.read_csv(r'C:\\Users\\Fernando\\Documents\\Projects\\supermarket-sales\\supermarket_sales.csv', parse_dates=[['Date','Time']])\n",
    "\n",
    "df.head()"
   ]
  },
  {
   "cell_type": "markdown",
   "id": "70513490",
   "metadata": {},
   "source": [
    "## Analysing the dtype, and non-null values of the columns"
   ]
  },
  {
   "cell_type": "code",
   "execution_count": 3,
   "id": "a6a9a751",
   "metadata": {},
   "outputs": [
    {
     "name": "stdout",
     "output_type": "stream",
     "text": [
      "<class 'pandas.core.frame.DataFrame'>\n",
      "RangeIndex: 1000 entries, 0 to 999\n",
      "Data columns (total 16 columns):\n",
      " #   Column                   Non-Null Count  Dtype         \n",
      "---  ------                   --------------  -----         \n",
      " 0   Date_Time                1000 non-null   datetime64[ns]\n",
      " 1   Invoice ID               1000 non-null   object        \n",
      " 2   Branch                   1000 non-null   object        \n",
      " 3   City                     1000 non-null   object        \n",
      " 4   Customer type            1000 non-null   object        \n",
      " 5   Gender                   1000 non-null   object        \n",
      " 6   Product line             1000 non-null   object        \n",
      " 7   Unit price               1000 non-null   float64       \n",
      " 8   Quantity                 1000 non-null   int64         \n",
      " 9   Tax 5%                   1000 non-null   float64       \n",
      " 10  Total                    1000 non-null   float64       \n",
      " 11  Payment                  1000 non-null   object        \n",
      " 12  cogs                     1000 non-null   float64       \n",
      " 13  gross margin percentage  1000 non-null   float64       \n",
      " 14  gross income             1000 non-null   float64       \n",
      " 15  Rating                   1000 non-null   float64       \n",
      "dtypes: datetime64[ns](1), float64(7), int64(1), object(7)\n",
      "memory usage: 125.1+ KB\n"
     ]
    }
   ],
   "source": [
    "df.info()"
   ]
  },
  {
   "cell_type": "markdown",
   "id": "f35133c8",
   "metadata": {},
   "source": [
    "## Analysing unique values of object dtype columns."
   ]
  },
  {
   "cell_type": "code",
   "execution_count": 4,
   "id": "30fb01b7",
   "metadata": {},
   "outputs": [
    {
     "name": "stdout",
     "output_type": "stream",
     "text": [
      "['A' 'C' 'B']\n",
      "['Yangon' 'Naypyitaw' 'Mandalay']\n",
      "['Member' 'Normal']\n",
      "['Female' 'Male']\n",
      "['Health and beauty' 'Electronic accessories' 'Home and lifestyle'\n",
      " 'Sports and travel' 'Food and beverages' 'Fashion accessories']\n",
      "['Ewallet' 'Cash' 'Credit card']\n"
     ]
    }
   ],
   "source": [
    "for i in ['Branch', 'City', 'Customer type', 'Gender', 'Product line', 'Payment']:\n",
    "    print(df[i].unique())"
   ]
  },
  {
   "cell_type": "markdown",
   "id": "ec74c196",
   "metadata": {},
   "source": [
    "##### As we saw, the columns 'Branch', 'City', 'Customer type', 'Gender', 'Product line', 'Payment' have a dtype object, but is more convenient set them as 'category' dtype, since they have a few numbers of unique values.\n",
    "\n",
    "## Setting the correct dtype of columns"
   ]
  },
  {
   "cell_type": "code",
   "execution_count": 5,
   "id": "13fabc69",
   "metadata": {},
   "outputs": [
    {
     "name": "stdout",
     "output_type": "stream",
     "text": [
      "Date_Time                  datetime64[ns]\n",
      "Invoice ID                         object\n",
      "Branch                           category\n",
      "City                             category\n",
      "Customer type                    category\n",
      "Gender                           category\n",
      "Product line                     category\n",
      "Unit price                        float64\n",
      "Quantity                            int64\n",
      "Tax 5%                            float64\n",
      "Total                             float64\n",
      "Payment                          category\n",
      "cogs                              float64\n",
      "gross margin percentage           float64\n",
      "gross income                      float64\n",
      "Rating                            float64\n",
      "dtype: object\n"
     ]
    }
   ],
   "source": [
    "for i in ['Branch', 'City', 'Customer type', 'Gender', 'Product line', 'Payment']:\n",
    "    df[i]=df[i].astype('category')\n",
    "print(df.dtypes)"
   ]
  },
  {
   "cell_type": "markdown",
   "id": "fb9d2c7d",
   "metadata": {},
   "source": [
    "### 1) How many purchases were recorded at each hour of the day during the last 3 months?"
   ]
  },
  {
   "cell_type": "code",
   "execution_count": 6,
   "id": "fba5dc7a",
   "metadata": {},
   "outputs": [
    {
     "data": {
      "image/png": "[encoded data removed]",
      "text/plain": [
       "<Figure size 432x288 with 1 Axes>"
      ]
     },
     "metadata": {
      "needs_background": "light"
     },
     "output_type": "display_data"
    }
   ],
   "source": [
    "df['Time']=df['Date_Time'].dt.time\n",
    "df['Hour']=df['Date_Time'].dt.hour\n",
    "\n",
    "\n",
    "sns.countplot(x='Hour',data=df)\n",
    "plt.ylabel('Count')\n",
    "plt.xlabel('Hour')\n",
    "plt.title('How many sales per hour of the day during the last 3 months?')\n",
    "plt.show()"
   ]
  },
  {
   "cell_type": "markdown",
   "id": "62f32316",
   "metadata": {},
   "source": [
    "#### So it is possible to conclude that most of the sales happen at 7 pm, followed by 1pm, 3pm and 10am respectively. "
   ]
  },
  {
   "cell_type": "markdown",
   "id": "fd18e2af",
   "metadata": {},
   "source": [
    "### 2) How the average sales were distributed along the weekdays?"
   ]
  },
  {
   "cell_type": "code",
   "execution_count": 7,
   "id": "401126bb",
   "metadata": {},
   "outputs": [
    {
     "data": {
      "text/plain": [
       "<AxesSubplot:title={'center':'Mean Purchases($) by Weekday during the first 3 months of 2021'}, xlabel='Mean Purchases ($)', ylabel='Weekday'>"
      ]
     },
     "execution_count": 7,
     "metadata": {},
     "output_type": "execute_result"
    },
    {
     "data": {
      "image/png": "[encoded data removed]",
      "text/plain": [
       "<Figure size 432x288 with 1 Axes>"
      ]
     },
     "metadata": {
      "needs_background": "light"
     },
     "output_type": "display_data"
    }
   ],
   "source": [
    "dict={0:'Monday',1:'Tuesday',2:'Wednesday',3:'Thursday',4:'Friday',5:'Saturday',6:'Sunday'}\n",
    "df['Weekday']=df['Date_Time'].dt.weekday.replace(dict)\n",
    "salesbyweekday=df.groupby('Weekday', as_index=False)['Total'].mean()\n",
    "salesbyweekday=salesbyweekday.rename(columns={'Total':'Mean Purchases ($)'})\n",
    "\n",
    "\n",
    "plt.title('Mean Purchases($) by Weekday during the first 3 months of 2021')\n",
    "sns.barplot(y='Weekday',x='Mean Purchases ($)',data=salesbyweekday,order=salesbyweekday.sort_values('Mean Purchases ($)').Weekday, orient='h');\n"
   ]
  },
  {
   "cell_type": "markdown",
   "id": "2cdf2e5d",
   "metadata": {},
   "source": [
    "#### Through the graph above it is possible visualize that during weekends the products were best sold, while Monday shows the least number. A possible explanation for this variation could be the fact that weekends are the day when most of the people do not work, so have more time available for shopping.  "
   ]
  },
  {
   "cell_type": "markdown",
   "id": "30f972df",
   "metadata": {},
   "source": [
    "### 3) How the location affect the average sales?"
   ]
  },
  {
   "cell_type": "code",
   "execution_count": 8,
   "id": "3ad733d4",
   "metadata": {},
   "outputs": [
    {
     "data": {
      "text/plain": [
       "Text(0.5, 0, 'City')"
      ]
     },
     "execution_count": 8,
     "metadata": {},
     "output_type": "execute_result"
    },
    {
     "data": {
      "image/png": "[encoded data removed]",
      "text/plain": [
       "<Figure size 432x288 with 1 Axes>"
      ]
     },
     "metadata": {
      "needs_background": "light"
     },
     "output_type": "display_data"
    }
   ],
   "source": [
    "salesbycity=df.groupby('City', as_index=False)['Total'].mean()\n",
    "\n",
    "sns.barplot(x='City',y='Total',data=salesbycity,order=salesbycity.sort_values('Total').City)\n",
    "plt.title('How the location affect the average sales?')\n",
    "plt.ylabel('Mean purchases ($)')\n",
    "plt.xlabel('City')"
   ]
  },
  {
   "cell_type": "markdown",
   "id": "698414a9",
   "metadata": {},
   "source": [
    "#### You can visualize that the Mean purchases are higher for Naypitaw followed by Mandalay and Yangon respectively."
   ]
  },
  {
   "cell_type": "markdown",
   "id": "a8375ced",
   "metadata": {},
   "source": [
    "### 4) Which product lines present the higgest average sales?"
   ]
  },
  {
   "cell_type": "code",
   "execution_count": 9,
   "id": "fa81c937",
   "metadata": {},
   "outputs": [
    {
     "data": {
      "text/plain": [
       "Text(0.5, 1.0, 'Average sales of each product line')"
      ]
     },
     "execution_count": 9,
     "metadata": {},
     "output_type": "execute_result"
    },
    {
     "data": {
      "image/png": "[encoded data removed]",
      "text/plain": [
       "<Figure size 432x288 with 1 Axes>"
      ]
     },
     "metadata": {
      "needs_background": "light"
     },
     "output_type": "display_data"
    }
   ],
   "source": [
    "salesbyline=df.groupby('Product line',as_index=False)['Total'].mean()\n",
    "sns.barplot(y='Product line',x='Total',data=salesbyline,order=salesbyline.sort_values('Total')['Product line'],orient='h')\n",
    "plt.xlabel('Average Sales ($)')\n",
    "plt.title('Average sales of each product line')\n"
   ]
  },
  {
   "cell_type": "markdown",
   "id": "e2f548e0",
   "metadata": {},
   "source": [
    "#### The product lines with higgest average sales are home and lifestyle, followed by Sports and travel and Health and beauty, respectively."
   ]
  },
  {
   "cell_type": "markdown",
   "id": "76223e4c",
   "metadata": {},
   "source": [
    "### 5) Are the product lines with higgest average sales better evaluated?"
   ]
  },
  {
   "cell_type": "code",
   "execution_count": 10,
   "id": "99686ad6",
   "metadata": {
    "scrolled": true
   },
   "outputs": [
    {
     "data": {
      "text/plain": [
       "Text(0.5, 1.0, 'Mean Rating for each product line')"
      ]
     },
     "execution_count": 10,
     "metadata": {},
     "output_type": "execute_result"
    },
    {
     "data": {
      "image/png": "[encoded data removed]",
      "text/plain": [
       "<Figure size 432x288 with 1 Axes>"
      ]
     },
     "metadata": {
      "needs_background": "light"
     },
     "output_type": "display_data"
    }
   ],
   "source": [
    "salesbyrating=df.groupby('Product line',as_index=False)['Rating'].mean()\n",
    "sns.barplot(y='Product line',x='Rating',data=salesbyrating, order=salesbyrating.sort_values('Rating')['Product line'],orient='h')\n",
    "plt.xlabel('Mean Rating')\n",
    "plt.title('Mean Rating for each product line')\n"
   ]
  },
  {
   "cell_type": "markdown",
   "id": "857c1a31",
   "metadata": {},
   "source": [
    "#### As it is possible to observe from the last two figures, the products with higger average sales (Home and lifestyle and Sports and travel) are the least evaluated, so the correct answer for the question is \"no\"."
   ]
  },
  {
   "cell_type": "markdown",
   "id": "1ce260eb",
   "metadata": {},
   "source": [
    "### 6) Which gender spent more in average?"
   ]
  },
  {
   "cell_type": "code",
   "execution_count": 11,
   "id": "cc70dedf",
   "metadata": {},
   "outputs": [
    {
     "data": {
      "text/plain": [
       "Text(0.5, 1.0, 'Which gender spent more in average?')"
      ]
     },
     "execution_count": 11,
     "metadata": {},
     "output_type": "execute_result"
    },
    {
     "data": {
      "image/png": "[encoded data removed]",
      "text/plain": [
       "<Figure size 432x288 with 1 Axes>"
      ]
     },
     "metadata": {
      "needs_background": "light"
     },
     "output_type": "display_data"
    }
   ],
   "source": [
    "salesbygender=df.groupby('Gender', as_index=False)['Total'].mean()\n",
    "\n",
    "sns.barplot(x='Gender',y='Total',data=salesbygender,order=salesbygender.sort_values('Total').Gender)\n",
    "plt.ylabel('Mean Purchases ($)')\n",
    "plt.title('Which gender spent more in average?');"
   ]
  },
  {
   "cell_type": "markdown",
   "id": "1b1532b2",
   "metadata": {},
   "source": [
    "#### The average females have purchased considerably more in this supermarket."
   ]
  },
  {
   "cell_type": "markdown",
   "id": "9cfde916",
   "metadata": {},
   "source": [
    "### 7) Does gender affect the product line preference? "
   ]
  },
  {
   "cell_type": "code",
   "execution_count": 16,
   "id": "6ace871a",
   "metadata": {},
   "outputs": [
    {
     "data": {
      "image/png": "[encoded data removed]",
      "text/plain": [
       "<Figure size 432x288 with 1 Axes>"
      ]
     },
     "metadata": {
      "needs_background": "light"
     },
     "output_type": "display_data"
    }
   ],
   "source": [
    "sns.barplot(y='Product line',x='Total',data=df,hue='Gender', orient='h',ci=None)\n",
    "plt.xlabel('Mean Purchases($)')\n",
    "plt.title('Which product lines each gender purchased more in average?')\n",
    "plt.legend(bbox_to_anchor=(1,0.3,0,0),fontsize=15);"
   ]
  },
  {
   "cell_type": "markdown",
   "id": "784153b4",
   "metadata": {},
   "source": [
    "#### We can observe that Males used to spend more with health and beauty products while average females bought more \"Food and beverages\" and \"Home and lifestyle\" product lines."
   ]
  },
  {
   "cell_type": "markdown",
   "id": "2a808ed2",
   "metadata": {},
   "source": [
    "### 8) What are the favorite payment methods per customer type?"
   ]
  },
  {
   "cell_type": "code",
   "execution_count": 17,
   "id": "a31e1430",
   "metadata": {},
   "outputs": [
    {
     "data": {
      "image/png": "[encoded data removed]",
      "text/plain": [
       "<Figure size 432x288 with 1 Axes>"
      ]
     },
     "metadata": {
      "needs_background": "light"
     },
     "output_type": "display_data"
    }
   ],
   "source": [
    "sns.countplot(x='Payment',hue='Customer type',data=df)\n",
    "plt.ylabel('Count')\n",
    "plt.title('What are the most chosen payment methods per customer type?')\n",
    "plt.legend(bbox_to_anchor=(1,0.3,0,0),fontsize=15);"
   ]
  },
  {
   "cell_type": "markdown",
   "id": "83bf025e",
   "metadata": {},
   "source": [
    "#### It is possible to notice that Members customers tend to buy more with Credit card, while Normal customers with Cash and Ewallet."
   ]
  },
  {
   "cell_type": "code",
   "execution_count": null,
   "id": "03ff3503",
   "metadata": {},
   "outputs": [],
   "source": []
  }
 ],
 "metadata": {
  "kernelspec": {
   "display_name": "Python 3 (ipykernel)",
   "language": "python",
   "name": "python3"
  },
  "language_info": {
   "codemirror_mode": {
    "name": "ipython",
    "version": 3
   },
   "file_extension": ".py",
   "mimetype": "text/x-python",
   "name": "python",
   "nbconvert_exporter": "python",
   "pygments_lexer": "ipython3",
   "version": "3.7.11"
  }
 },
 "nbformat": 4,
 "nbformat_minor": 5
}
